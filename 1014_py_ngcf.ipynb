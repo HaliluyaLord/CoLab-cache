{
  "nbformat": 4,
  "nbformat_minor": 0,
  "metadata": {
    "colab": {
      "name": "1014-py-ngcf.ipynb",
      "provenance": [],
      "collapsed_sections": [],
      "mount_file_id": "1wpyCi0oQzttn-xvzPRQpKVcukez63dYH",
      "authorship_tag": "ABX9TyNNETq+3XftgV5Oyc0RET9F",
      "include_colab_link": true
    },
    "kernelspec": {
      "name": "python3",
      "display_name": "Python 3"
    },
    "accelerator": "GPU"
  },
  "cells": [
    {
      "cell_type": "markdown",
      "metadata": {
        "id": "view-in-github",
        "colab_type": "text"
      },
      "source": [
        "<a href=\"https://colab.research.google.com/github/HaliluyaLord/CoLab-cache/blob/master/1014_py_ngcf.ipynb\" target=\"_parent\"><img src=\"https://colab.research.google.com/assets/colab-badge.svg\" alt=\"Open In Colab\"/></a>"
      ]
    },
    {
      "cell_type": "code",
      "metadata": {
        "id": "PF2YtLrW1zr6"
      },
      "source": [
        "import torch\n",
        "import torch.optim as optim\n",
        "from time import time"
      ],
      "execution_count": null,
      "outputs": []
    },
    {
      "cell_type": "code",
      "metadata": {
        "id": "EIEwadRs6xWf",
        "outputId": "bb944aaf-dd4c-4a35-eeb7-3507d5a5e30f",
        "colab": {
          "base_uri": "https://localhost:8080/",
          "height": 35
        }
      },
      "source": [
        "torch.__version__"
      ],
      "execution_count": null,
      "outputs": [
        {
          "output_type": "execute_result",
          "data": {
            "application/vnd.google.colaboratory.intrinsic+json": {
              "type": "string"
            },
            "text/plain": [
              "'1.6.0+cu101'"
            ]
          },
          "metadata": {
            "tags": []
          },
          "execution_count": 2
        }
      ]
    },
    {
      "cell_type": "code",
      "metadata": {
        "id": "7SYf_fzU736B",
        "outputId": "d39d4281-28ff-4440-f26d-1a7652451d63",
        "colab": {
          "base_uri": "https://localhost:8080/",
          "height": 35
        }
      },
      "source": [
        "ls"
      ],
      "execution_count": null,
      "outputs": [
        {
          "output_type": "stream",
          "text": [
            "\u001b[0m\u001b[01;34mdrive\u001b[0m/  \u001b[01;34msample_data\u001b[0m/\n"
          ],
          "name": "stdout"
        }
      ]
    },
    {
      "cell_type": "code",
      "metadata": {
        "id": "B-X7JC989UN5",
        "outputId": "201bc394-e4d7-45e1-bc05-089d16e50d16",
        "colab": {
          "base_uri": "https://localhost:8080/",
          "height": 35
        }
      },
      "source": [
        "cd /content/drive/My Drive/Colab Notebooks/NGCF-PyTorch-master/NGCF"
      ],
      "execution_count": null,
      "outputs": [
        {
          "output_type": "stream",
          "text": [
            "/content/drive/My Drive/Colab Notebooks/NGCF-PyTorch-master/NGCF\n"
          ],
          "name": "stdout"
        }
      ]
    },
    {
      "cell_type": "code",
      "metadata": {
        "id": "8r3Q52bO9YTs",
        "outputId": "15ba3673-1b70-429b-ddab-b81d3517e0a1",
        "colab": {
          "base_uri": "https://localhost:8080/",
          "height": 52
        }
      },
      "source": [
        "ls"
      ],
      "execution_count": null,
      "outputs": [
        {
          "output_type": "stream",
          "text": [
            "__init__.py  \u001b[0m\u001b[01;34mmodel\u001b[0m/    \u001b[01;34mmodel20\u001b[0m/  \u001b[01;34m__pycache__\u001b[0m/\n",
            "main.py      \u001b[01;34mmodel10\u001b[0m/  NGCF.py   \u001b[01;34mutility\u001b[0m/\n"
          ],
          "name": "stdout"
        }
      ]
    },
    {
      "cell_type": "code",
      "metadata": {
        "id": "notvEuqAJ6hi",
        "outputId": "571aa81d-7a84-4d24-f26c-0f9599679e75",
        "colab": {
          "base_uri": "https://localhost:8080/",
          "height": 315
        }
      },
      "source": [
        "!python3 main.py # 10"
      ],
      "execution_count": null,
      "outputs": [
        {
          "output_type": "stream",
          "text": [
            "n_users=29858, n_items=40981\n",
            "n_interactions=1027370\n",
            "n_train=810128, n_test=217242, sparsity=0.00084\n",
            "already load adj matrix (70839, 70839) 0.22878313064575195\n",
            "Epoch 0 [166.0s]: train==[701.53754=701.46625 + 0.07176]\n",
            "Epoch 1 [166.0s]: train==[395.62714=395.55478 + 0.07271]\n",
            "Epoch 2 [165.9s]: train==[346.94522=346.87213 + 0.07324]\n",
            "Epoch 3 [165.7s]: train==[306.52222=306.44858 + 0.07371]\n",
            "Epoch 4 [166.4s]: train==[279.40793=279.33401 + 0.07410]\n",
            "Epoch 5 [165.5s]: train==[263.86966=263.79544 + 0.07443]\n",
            "Epoch 6 [165.4s]: train==[253.57956=253.50481 + 0.07476]\n",
            "Epoch 7 [165.4s]: train==[245.54839=245.47301 + 0.07512]\n",
            "Epoch 8 [165.5s]: train==[238.15338=238.07800 + 0.07553]\n",
            "Epoch 9 [165.5s + 391.7s]: train==[232.55560=232.47940 + 0.07598], recall=[0.04666, 0.14189], precision=[0.01448, 0.00896], hit=[0.22145, 0.47455], ndcg=[0.07208, 0.13841]\n",
            "save the weights in path:  model10/9.pkl\n",
            "Best Iter=[0]@[2049.1]\trecall=[0.04666\t0.07620\t0.10113\t0.12280\t0.14189], precision=[0.01448\t0.01189\t0.01059\t0.00967\t0.00896], hit=[0.22145\t0.31633\t0.38583\t0.43610\t0.47455], ndcg=[0.07208\t0.09529\t0.11271\t0.12674\t0.13841]\n"
          ],
          "name": "stdout"
        }
      ]
    },
    {
      "cell_type": "code",
      "metadata": {
        "id": "3xZQN1s3-GAb",
        "outputId": "d6fd9296-0486-485d-d0ae-54d72bc59e0f",
        "colab": {
          "base_uri": "https://localhost:8080/",
          "height": 505
        }
      },
      "source": [
        "!python3 main.py # 20"
      ],
      "execution_count": null,
      "outputs": [
        {
          "output_type": "stream",
          "text": [
            "n_users=29858, n_items=40981\n",
            "n_interactions=1027370\n",
            "n_train=810128, n_test=217242, sparsity=0.00084\n",
            "already load adj matrix (70839, 70839) 0.2392592430114746\n",
            "Epoch 0 [168.1s]: train==[707.54419=707.47260 + 0.07173]\n",
            "Epoch 1 [169.9s]: train==[395.02982=394.95715 + 0.07265]\n",
            "Epoch 2 [170.4s]: train==[338.03284=337.95972 + 0.07324]\n",
            "Epoch 3 [170.1s]: train==[300.91119=300.83752 + 0.07371]\n",
            "Epoch 4 [170.4s]: train==[275.78073=275.70645 + 0.07407]\n",
            "Epoch 5 [170.8s]: train==[259.76266=259.68845 + 0.07436]\n",
            "Epoch 6 [171.1s]: train==[248.80521=248.73068 + 0.07468]\n",
            "Epoch 7 [171.2s]: train==[240.78452=240.70930 + 0.07502]\n",
            "Epoch 8 [171.5s]: train==[234.50615=234.43083 + 0.07541]\n",
            "Epoch 9 [171.4s + 416.5s]: train==[229.51520=229.43951 + 0.07584], recall=[0.04595, 0.14513], precision=[0.01450, 0.00915], hit=[0.22088, 0.48245], ndcg=[0.07203, 0.14016]\n",
            "save the weights in path:  model20/9.pkl\n",
            "Epoch 10 [171.8s]: train==[225.23065=225.15425 + 0.07630]\n",
            "Epoch 11 [172.4s]: train==[220.99219=220.91519 + 0.07684]\n",
            "Epoch 12 [172.4s]: train==[215.96007=215.88269 + 0.07741]\n",
            "Epoch 13 [171.7s]: train==[212.35767=212.27963 + 0.07802]\n",
            "Epoch 14 [170.6s]: train==[208.26018=208.18161 + 0.07867]\n",
            "Epoch 15 [171.2s]: train==[204.51370=204.43428 + 0.07938]\n",
            "Epoch 16 [171.0s]: train==[200.29823=200.21796 + 0.08016]\n",
            "Epoch 17 [170.9s]: train==[195.91237=195.83151 + 0.08100]\n",
            "Epoch 18 [171.7s]: train==[190.85472=190.77319 + 0.08189]\n",
            "Epoch 19 [171.3s + 446.3s]: train==[187.31580=187.23306 + 0.08284], recall=[0.09252, 0.22266], precision=[0.02781, 0.01374], hit=[0.37454, 0.62603], ndcg=[0.14771, 0.22783]\n",
            "save the weights in path:  model20/19.pkl\n",
            "Best Iter=[1]@[4283.2]\trecall=[0.09252\t0.13572\t0.16940\t0.19818\t0.22266], precision=[0.02781\t0.02059\t0.01727\t0.01521\t0.01374], hit=[0.37454\t0.47890\t0.54364\t0.59083\t0.62603], ndcg=[0.14771\t0.17759\t0.19822\t0.21453\t0.22783]\n"
          ],
          "name": "stdout"
        }
      ]
    },
    {
      "cell_type": "code",
      "metadata": {
        "id": "RJ867Uhd26ok",
        "outputId": "605a4f0d-47e4-4a11-a56a-3755bf22492d",
        "colab": {
          "base_uri": "https://localhost:8080/",
          "height": 35
        }
      },
      "source": [
        "!python3 main.py # 400"
      ],
      "execution_count": null,
      "outputs": [
        {
          "output_type": "stream",
          "text": [
            "python3: can't open file 'main.py': [Errno 2] No such file or directory\n"
          ],
          "name": "stdout"
        }
      ]
    }
  ]
}